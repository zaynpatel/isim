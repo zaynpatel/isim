{
 "cells": [
  {
   "cell_type": "code",
   "execution_count": 1,
   "id": "9068c313",
   "metadata": {},
   "outputs": [],
   "source": [
    "import pandas as pd\n",
    "from matplotlib import pyplot as plt"
   ]
  },
  {
   "cell_type": "markdown",
   "id": "0c718cfa",
   "metadata": {},
   "source": [
    "### Measure and quantify how this RC circuit responds to different frequency inputs at 1kHz and 100 kHz\n",
    "\n",
    "**Note:** I've dropped channel two because it's not being measured in the O-Scope. I could multiply the frequency by 100 db based on the db to gain formula but won't. "
   ]
  },
  {
   "cell_type": "code",
   "execution_count": 50,
   "id": "772c4894",
   "metadata": {},
   "outputs": [
    {
     "data": {
      "text/html": [
       "<div>\n",
       "<style scoped>\n",
       "    .dataframe tbody tr th:only-of-type {\n",
       "        vertical-align: middle;\n",
       "    }\n",
       "\n",
       "    .dataframe tbody tr th {\n",
       "        vertical-align: top;\n",
       "    }\n",
       "\n",
       "    .dataframe thead th {\n",
       "        text-align: right;\n",
       "    }\n",
       "</style>\n",
       "<table border=\"1\" class=\"dataframe\">\n",
       "  <thead>\n",
       "    <tr style=\"text-align: right;\">\n",
       "      <th></th>\n",
       "      <th>t1</th>\n",
       "      <th>ch1</th>\n",
       "    </tr>\n",
       "  </thead>\n",
       "  <tbody>\n",
       "    <tr>\n",
       "      <th>0</th>\n",
       "      <td>-0.000188</td>\n",
       "      <td>3.147018</td>\n",
       "    </tr>\n",
       "    <tr>\n",
       "      <th>1</th>\n",
       "      <td>-0.000187</td>\n",
       "      <td>3.147018</td>\n",
       "    </tr>\n",
       "    <tr>\n",
       "      <th>2</th>\n",
       "      <td>-0.000187</td>\n",
       "      <td>3.504161</td>\n",
       "    </tr>\n",
       "    <tr>\n",
       "      <th>3</th>\n",
       "      <td>-0.000187</td>\n",
       "      <td>3.514082</td>\n",
       "    </tr>\n",
       "    <tr>\n",
       "      <th>4</th>\n",
       "      <td>-0.000186</td>\n",
       "      <td>3.504161</td>\n",
       "    </tr>\n",
       "    <tr>\n",
       "      <th>...</th>\n",
       "      <td>...</td>\n",
       "      <td>...</td>\n",
       "    </tr>\n",
       "    <tr>\n",
       "      <th>1495</th>\n",
       "      <td>0.000186</td>\n",
       "      <td>2.045825</td>\n",
       "    </tr>\n",
       "    <tr>\n",
       "      <th>1496</th>\n",
       "      <td>0.000186</td>\n",
       "      <td>2.045825</td>\n",
       "    </tr>\n",
       "    <tr>\n",
       "      <th>1497</th>\n",
       "      <td>0.000187</td>\n",
       "      <td>2.065666</td>\n",
       "    </tr>\n",
       "    <tr>\n",
       "      <th>1498</th>\n",
       "      <td>0.000187</td>\n",
       "      <td>2.065666</td>\n",
       "    </tr>\n",
       "    <tr>\n",
       "      <th>1499</th>\n",
       "      <td>0.000187</td>\n",
       "      <td>2.085508</td>\n",
       "    </tr>\n",
       "  </tbody>\n",
       "</table>\n",
       "<p>1500 rows × 2 columns</p>\n",
       "</div>"
      ],
      "text/plain": [
       "            t1       ch1\n",
       "0    -0.000188  3.147018\n",
       "1    -0.000187  3.147018\n",
       "2    -0.000187  3.504161\n",
       "3    -0.000187  3.514082\n",
       "4    -0.000186  3.504161\n",
       "...        ...       ...\n",
       "1495  0.000186  2.045825\n",
       "1496  0.000186  2.045825\n",
       "1497  0.000187  2.065666\n",
       "1498  0.000187  2.065666\n",
       "1499  0.000187  2.085508\n",
       "\n",
       "[1500 rows x 2 columns]"
      ]
     },
     "execution_count": 50,
     "metadata": {},
     "output_type": "execute_result"
    }
   ],
   "source": [
    "data = pd.read_csv('try-100')\n",
    "new_df = data.drop(['t2', 'ch2'], axis=1)\n",
    "#data.ch2 * 100\n",
    "#data\n",
    "new_df"
   ]
  },
  {
   "cell_type": "code",
   "execution_count": 42,
   "id": "c49c7447",
   "metadata": {},
   "outputs": [
    {
     "data": {
      "text/plain": [
       "[<matplotlib.lines.Line2D at 0x7fa2181110a0>,\n",
       " <matplotlib.lines.Line2D at 0x7fa218111190>]"
      ]
     },
     "execution_count": 42,
     "metadata": {},
     "output_type": "execute_result"
    },
    {
     "data": {
      "image/png": "[encoded data removed]",
      "text/plain": [
       "<Figure size 432x288 with 1 Axes>"
      ]
     },
     "metadata": {
      "needs_background": "light"
     },
     "output_type": "display_data"
    }
   ],
   "source": [
    "plt.plot(new_df)"
   ]
  },
  {
   "cell_type": "code",
   "execution_count": 65,
   "id": "98255485",
   "metadata": {},
   "outputs": [
    {
     "data": {
      "text/html": [
       "<div>\n",
       "<style scoped>\n",
       "    .dataframe tbody tr th:only-of-type {\n",
       "        vertical-align: middle;\n",
       "    }\n",
       "\n",
       "    .dataframe tbody tr th {\n",
       "        vertical-align: top;\n",
       "    }\n",
       "\n",
       "    .dataframe thead th {\n",
       "        text-align: right;\n",
       "    }\n",
       "</style>\n",
       "<table border=\"1\" class=\"dataframe\">\n",
       "  <thead>\n",
       "    <tr style=\"text-align: right;\">\n",
       "      <th></th>\n",
       "      <th>t1</th>\n",
       "      <th>ch1</th>\n",
       "    </tr>\n",
       "  </thead>\n",
       "  <tbody>\n",
       "    <tr>\n",
       "      <th>0</th>\n",
       "      <td>-0.000188</td>\n",
       "      <td>1.683721</td>\n",
       "    </tr>\n",
       "    <tr>\n",
       "      <th>1</th>\n",
       "      <td>-0.000187</td>\n",
       "      <td>1.683721</td>\n",
       "    </tr>\n",
       "    <tr>\n",
       "      <th>2</th>\n",
       "      <td>-0.000187</td>\n",
       "      <td>3.439677</td>\n",
       "    </tr>\n",
       "    <tr>\n",
       "      <th>3</th>\n",
       "      <td>-0.000187</td>\n",
       "      <td>3.404955</td>\n",
       "    </tr>\n",
       "    <tr>\n",
       "      <th>4</th>\n",
       "      <td>-0.000186</td>\n",
       "      <td>3.395034</td>\n",
       "    </tr>\n",
       "    <tr>\n",
       "      <th>...</th>\n",
       "      <td>...</td>\n",
       "      <td>...</td>\n",
       "    </tr>\n",
       "    <tr>\n",
       "      <th>1495</th>\n",
       "      <td>0.000186</td>\n",
       "      <td>2.918843</td>\n",
       "    </tr>\n",
       "    <tr>\n",
       "      <th>1496</th>\n",
       "      <td>0.000186</td>\n",
       "      <td>2.918843</td>\n",
       "    </tr>\n",
       "    <tr>\n",
       "      <th>1497</th>\n",
       "      <td>0.000187</td>\n",
       "      <td>2.938684</td>\n",
       "    </tr>\n",
       "    <tr>\n",
       "      <th>1498</th>\n",
       "      <td>0.000187</td>\n",
       "      <td>2.948604</td>\n",
       "    </tr>\n",
       "    <tr>\n",
       "      <th>1499</th>\n",
       "      <td>0.000187</td>\n",
       "      <td>2.973406</td>\n",
       "    </tr>\n",
       "  </tbody>\n",
       "</table>\n",
       "<p>1500 rows × 2 columns</p>\n",
       "</div>"
      ],
      "text/plain": [
       "            t1       ch1\n",
       "0    -0.000188  1.683721\n",
       "1    -0.000187  1.683721\n",
       "2    -0.000187  3.439677\n",
       "3    -0.000187  3.404955\n",
       "4    -0.000186  3.395034\n",
       "...        ...       ...\n",
       "1495  0.000186  2.918843\n",
       "1496  0.000186  2.918843\n",
       "1497  0.000187  2.938684\n",
       "1498  0.000187  2.948604\n",
       "1499  0.000187  2.973406\n",
       "\n",
       "[1500 rows x 2 columns]"
      ]
     },
     "execution_count": 65,
     "metadata": {},
     "output_type": "execute_result"
    }
   ],
   "source": [
    "ten_khz = pd.read_csv('ten')\n",
    "newer_df = ten_khz.drop(['t2', 'ch2'], axis=1)\n",
    "newer_df"
   ]
  },
  {
   "cell_type": "code",
   "execution_count": 64,
   "id": "187b1624",
   "metadata": {
    "scrolled": true
   },
   "outputs": [
    {
     "data": {
      "text/plain": [
       "[<matplotlib.lines.Line2D at 0x7fa2006d9f40>,\n",
       " <matplotlib.lines.Line2D at 0x7fa2006e7070>]"
      ]
     },
     "execution_count": 64,
     "metadata": {},
     "output_type": "execute_result"
    },
    {
     "data": {
      "image/png": "[encoded data removed]",
      "text/plain": [
       "<Figure size 432x288 with 1 Axes>"
      ]
     },
     "metadata": {
      "needs_background": "light"
     },
     "output_type": "display_data"
    }
   ],
   "source": [
    "plt.plot(newer_df)"
   ]
  }
 ],
 "metadata": {
  "kernelspec": {
   "display_name": "Python 3",
   "language": "python",
   "name": "python3"
  },
  "language_info": {
   "codemirror_mode": {
    "name": "ipython",
    "version": 3
   },
   "file_extension": ".py",
   "mimetype": "text/x-python",
   "name": "python",
   "nbconvert_exporter": "python",
   "pygments_lexer": "ipython3",
   "version": "3.8.8"
  }
 },
 "nbformat": 4,
 "nbformat_minor": 5
}
