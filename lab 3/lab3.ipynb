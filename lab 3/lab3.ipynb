{
 "cells": [
  {
   "cell_type": "code",
   "execution_count": 1,
   "id": "d681f5e1",
   "metadata": {},
   "outputs": [],
   "source": [
    "import pandas as pd\n",
    "from matplotlib import pyplot as plt"
   ]
  },
  {
   "cell_type": "code",
   "execution_count": 2,
   "id": "c0428ba3",
   "metadata": {},
   "outputs": [
    {
     "data": {
      "text/html": [
       "<div>\n",
       "<style scoped>\n",
       "    .dataframe tbody tr th:only-of-type {\n",
       "        vertical-align: middle;\n",
       "    }\n",
       "\n",
       "    .dataframe tbody tr th {\n",
       "        vertical-align: top;\n",
       "    }\n",
       "\n",
       "    .dataframe thead th {\n",
       "        text-align: right;\n",
       "    }\n",
       "</style>\n",
       "<table border=\"1\" class=\"dataframe\">\n",
       "  <thead>\n",
       "    <tr style=\"text-align: right;\">\n",
       "      <th></th>\n",
       "      <th>Mass</th>\n",
       "      <th>Voltage (V)</th>\n",
       "    </tr>\n",
       "  </thead>\n",
       "  <tbody>\n",
       "    <tr>\n",
       "      <th>0</th>\n",
       "      <td>0.0</td>\n",
       "      <td>-0.020</td>\n",
       "    </tr>\n",
       "    <tr>\n",
       "      <th>1</th>\n",
       "      <td>28.8</td>\n",
       "      <td>0.065</td>\n",
       "    </tr>\n",
       "    <tr>\n",
       "      <th>2</th>\n",
       "      <td>57.2</td>\n",
       "      <td>0.115</td>\n",
       "    </tr>\n",
       "    <tr>\n",
       "      <th>3</th>\n",
       "      <td>98.5</td>\n",
       "      <td>0.220</td>\n",
       "    </tr>\n",
       "  </tbody>\n",
       "</table>\n",
       "</div>"
      ],
      "text/plain": [
       "   Mass  Voltage (V)\n",
       "0   0.0       -0.020\n",
       "1  28.8        0.065\n",
       "2  57.2        0.115\n",
       "3  98.5        0.220"
      ]
     },
     "execution_count": 2,
     "metadata": {},
     "output_type": "execute_result"
    }
   ],
   "source": [
    "new_df = pd.read_excel('Lab 3 Data Capture (2).xlsx')\n",
    "new_df.rename(columns={'Voltage (mV)': 'Voltage (V)'}, inplace=True)\n",
    "new_df"
   ]
  },
  {
   "cell_type": "markdown",
   "id": "a2abfa84",
   "metadata": {},
   "source": [
    "### Best fit calibration curve\n",
    "\n",
    "**Caption**: This graph shows that as Mass increases, Voltage increases too. I increased the mass by adding 3 washers between *28.8 - 41.4 grams*, and measured the individual Voltages after 2-3 seconds. The washers were added to the Strain Gauge at the top of my breadboard. "
   ]
  },
  {
   "cell_type": "code",
   "execution_count": 3,
   "id": "a4a0e5f2",
   "metadata": {},
   "outputs": [
    {
     "name": "stdout",
     "output_type": "stream",
     "text": [
      "Equation of the line of best fit: y =  \n",
      "0.002379 x - 0.01473\n"
     ]
    },
    {
     "data": {
      "image/png": "[encoded data removed]",
      "text/plain": [
       "<Figure size 432x288 with 1 Axes>"
      ]
     },
     "metadata": {
      "needs_background": "light"
     },
     "output_type": "display_data"
    }
   ],
   "source": [
    "import numpy as np\n",
    "coeffs = np.polyfit(new_df['Mass'], new_df['Voltage (V)'], 1)\n",
    "line = np.poly1d(coeffs)\n",
    "plt.xlabel('Mass (grams)')\n",
    "plt.ylabel('Voltage (V)')\n",
    "plt.title('Best Fit Calibration Curve')\n",
    "plt.plot(new_df['Mass'], new_df['Voltage (V)'], 'o', new_df['Mass'], line(new_df['Mass']), '-')\n",
    "print(\"Equation of the line of best fit: y = {}\".format(line))"
   ]
  },
  {
   "cell_type": "markdown",
   "id": "1c3549a8",
   "metadata": {},
   "source": [
    "### Computation of error (formula and explanation)\n",
    "\n",
    "To compute my percentage error, I substituted 41.7 (the mass I measured) into my linear regression equation to see what the output would be, helping me plot this theoretical point and see where it is on the line. In addition, it gives me an x-measured value to plug into the absolute value equation given in the lab (x-measured - x-known/x-known). My final percentage error is 16% (rounded) and within the 20% acceptable range.  "
   ]
  },
  {
   "cell_type": "code",
   "execution_count": 11,
   "id": "c65e20db",
   "metadata": {},
   "outputs": [
    {
     "data": {
      "text/plain": [
       "0.0844743"
      ]
     },
     "execution_count": 11,
     "metadata": {},
     "output_type": "execute_result"
    }
   ],
   "source": [
    "error_value = 0.002379 * 41.7 - 0.01473\n",
    "error_value"
   ]
  },
  {
   "cell_type": "code",
   "execution_count": 14,
   "id": "b05ce5fc",
   "metadata": {},
   "outputs": [
    {
     "data": {
      "text/plain": [
       "0.15525700000000003"
      ]
     },
     "execution_count": 14,
     "metadata": {},
     "output_type": "execute_result"
    }
   ],
   "source": [
    "# x_measured - x_known/x_known\n",
    "\n",
    "x_measured = 0.0844743\n",
    "x_known = 0.1\n",
    "\n",
    "percentage_error = np.abs((x_measured - x_known)/x_known)\n",
    "percentage_error"
   ]
  },
  {
   "cell_type": "markdown",
   "id": "4d2fdbca",
   "metadata": {},
   "source": [
    "### Computation of % error (not graded)"
   ]
  },
  {
   "cell_type": "code",
   "execution_count": 4,
   "id": "9711dc54",
   "metadata": {},
   "outputs": [
    {
     "data": {
      "text/plain": [
       "[44.79166666666667, 27.0979020979021, 57.66497461928933]"
      ]
     },
     "execution_count": 4,
     "metadata": {},
     "output_type": "execute_result"
    }
   ],
   "source": [
    "def scale_error(dataframe, processed = []):\n",
    "    measured_mass = 41.7\n",
    "    #measured_voltage = 0.1\n",
    "    if not dataframe:\n",
    "        return []\n",
    "    else:\n",
    "        result = []\n",
    "        for temp in dataframe:\n",
    "            if temp not in processed:\n",
    "                result.append(abs(measured_mass - temp) / temp * 100)\n",
    "                processed.append(temp)\n",
    "            return result + scale_error(dataframe[1:], processed)\n",
    "\n",
    "scale_error([28.8, 57.2, 98.5])"
   ]
  },
  {
   "cell_type": "code",
   "execution_count": 7,
   "id": "10431911",
   "metadata": {},
   "outputs": [
    {
     "data": {
      "text/html": [
       "<div>\n",
       "<style scoped>\n",
       "    .dataframe tbody tr th:only-of-type {\n",
       "        vertical-align: middle;\n",
       "    }\n",
       "\n",
       "    .dataframe tbody tr th {\n",
       "        vertical-align: top;\n",
       "    }\n",
       "\n",
       "    .dataframe thead th {\n",
       "        text-align: right;\n",
       "    }\n",
       "</style>\n",
       "<table border=\"1\" class=\"dataframe\">\n",
       "  <thead>\n",
       "    <tr style=\"text-align: right;\">\n",
       "      <th></th>\n",
       "      <th>Mass</th>\n",
       "      <th>Voltage (V)</th>\n",
       "      <th>% Error Output_x</th>\n",
       "      <th>% Error Output_y</th>\n",
       "      <th>% Error Output</th>\n",
       "    </tr>\n",
       "  </thead>\n",
       "  <tbody>\n",
       "    <tr>\n",
       "      <th>0</th>\n",
       "      <td>0.0</td>\n",
       "      <td>-0.020</td>\n",
       "      <td>44.791667</td>\n",
       "      <td>44.791667</td>\n",
       "      <td>44.791667</td>\n",
       "    </tr>\n",
       "    <tr>\n",
       "      <th>1</th>\n",
       "      <td>28.8</td>\n",
       "      <td>0.065</td>\n",
       "      <td>27.097902</td>\n",
       "      <td>27.097902</td>\n",
       "      <td>27.097902</td>\n",
       "    </tr>\n",
       "    <tr>\n",
       "      <th>2</th>\n",
       "      <td>57.2</td>\n",
       "      <td>0.115</td>\n",
       "      <td>57.664975</td>\n",
       "      <td>57.664975</td>\n",
       "      <td>57.664975</td>\n",
       "    </tr>\n",
       "  </tbody>\n",
       "</table>\n",
       "</div>"
      ],
      "text/plain": [
       "   Mass  Voltage (V)  % Error Output_x  % Error Output_y  % Error Output\n",
       "0   0.0       -0.020         44.791667         44.791667       44.791667\n",
       "1  28.8        0.065         27.097902         27.097902       27.097902\n",
       "2  57.2        0.115         57.664975         57.664975       57.664975"
      ]
     },
     "execution_count": 7,
     "metadata": {},
     "output_type": "execute_result"
    }
   ],
   "source": [
    "output = pd.DataFrame({\n",
    "    '% Error Output' : [44.79166666666667, 27.0979020979021, 57.66497461928933]\n",
    "})\n",
    "output\n",
    "\n",
    "new_df = new_df.merge(output, left_index=True, right_index=True)\n",
    "#new_df = new_df.drop(['% Error Output_x', '% Error Output_y'], axis=1)\n",
    "new_df"
   ]
  },
  {
   "cell_type": "code",
   "execution_count": null,
   "id": "3688b2cd",
   "metadata": {},
   "outputs": [],
   "source": []
  }
 ],
 "metadata": {
  "kernelspec": {
   "display_name": "Python 3",
   "language": "python",
   "name": "python3"
  },
  "language_info": {
   "codemirror_mode": {
    "name": "ipython",
    "version": 3
   },
   "file_extension": ".py",
   "mimetype": "text/x-python",
   "name": "python",
   "nbconvert_exporter": "python",
   "pygments_lexer": "ipython3",
   "version": "3.8.8"
  }
 },
 "nbformat": 4,
 "nbformat_minor": 5
}
