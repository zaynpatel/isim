{
 "cells": [
  {
   "cell_type": "code",
   "execution_count": 1,
   "id": "c35a1e75",
   "metadata": {},
   "outputs": [
    {
     "data": {
      "text/html": [
       "<div>\n",
       "<style scoped>\n",
       "    .dataframe tbody tr th:only-of-type {\n",
       "        vertical-align: middle;\n",
       "    }\n",
       "\n",
       "    .dataframe tbody tr th {\n",
       "        vertical-align: top;\n",
       "    }\n",
       "\n",
       "    .dataframe thead th {\n",
       "        text-align: right;\n",
       "    }\n",
       "</style>\n",
       "<table border=\"1\" class=\"dataframe\">\n",
       "  <thead>\n",
       "    <tr style=\"text-align: right;\">\n",
       "      <th></th>\n",
       "      <th>t1</th>\n",
       "      <th>ch1</th>\n",
       "      <th>t2</th>\n",
       "      <th>ch2</th>\n",
       "    </tr>\n",
       "  </thead>\n",
       "  <tbody>\n",
       "    <tr>\n",
       "      <th>0</th>\n",
       "      <td>-7.50</td>\n",
       "      <td>0.188061</td>\n",
       "      <td>-7.50</td>\n",
       "      <td>0.005591</td>\n",
       "    </tr>\n",
       "    <tr>\n",
       "      <th>1</th>\n",
       "      <td>-7.49</td>\n",
       "      <td>0.178147</td>\n",
       "      <td>-7.49</td>\n",
       "      <td>-0.004348</td>\n",
       "    </tr>\n",
       "    <tr>\n",
       "      <th>2</th>\n",
       "      <td>-7.48</td>\n",
       "      <td>0.188061</td>\n",
       "      <td>-7.48</td>\n",
       "      <td>0.005591</td>\n",
       "    </tr>\n",
       "    <tr>\n",
       "      <th>3</th>\n",
       "      <td>-7.47</td>\n",
       "      <td>0.183104</td>\n",
       "      <td>-7.47</td>\n",
       "      <td>-0.004348</td>\n",
       "    </tr>\n",
       "    <tr>\n",
       "      <th>4</th>\n",
       "      <td>-7.46</td>\n",
       "      <td>0.188061</td>\n",
       "      <td>-7.46</td>\n",
       "      <td>-0.004348</td>\n",
       "    </tr>\n",
       "    <tr>\n",
       "      <th>...</th>\n",
       "      <td>...</td>\n",
       "      <td>...</td>\n",
       "      <td>...</td>\n",
       "      <td>...</td>\n",
       "    </tr>\n",
       "    <tr>\n",
       "      <th>1495</th>\n",
       "      <td>7.45</td>\n",
       "      <td>5.174926</td>\n",
       "      <td>7.45</td>\n",
       "      <td>0.010560</td>\n",
       "    </tr>\n",
       "    <tr>\n",
       "      <th>1496</th>\n",
       "      <td>7.46</td>\n",
       "      <td>5.169969</td>\n",
       "      <td>7.46</td>\n",
       "      <td>0.005591</td>\n",
       "    </tr>\n",
       "    <tr>\n",
       "      <th>1497</th>\n",
       "      <td>7.47</td>\n",
       "      <td>5.179884</td>\n",
       "      <td>7.47</td>\n",
       "      <td>0.005591</td>\n",
       "    </tr>\n",
       "    <tr>\n",
       "      <th>1498</th>\n",
       "      <td>7.48</td>\n",
       "      <td>5.179884</td>\n",
       "      <td>7.48</td>\n",
       "      <td>0.000621</td>\n",
       "    </tr>\n",
       "    <tr>\n",
       "      <th>1499</th>\n",
       "      <td>7.49</td>\n",
       "      <td>5.174926</td>\n",
       "      <td>7.49</td>\n",
       "      <td>0.010560</td>\n",
       "    </tr>\n",
       "  </tbody>\n",
       "</table>\n",
       "<p>1500 rows × 4 columns</p>\n",
       "</div>"
      ],
      "text/plain": [
       "        t1       ch1    t2       ch2\n",
       "0    -7.50  0.188061 -7.50  0.005591\n",
       "1    -7.49  0.178147 -7.49 -0.004348\n",
       "2    -7.48  0.188061 -7.48  0.005591\n",
       "3    -7.47  0.183104 -7.47 -0.004348\n",
       "4    -7.46  0.188061 -7.46 -0.004348\n",
       "...    ...       ...   ...       ...\n",
       "1495  7.45  5.174926  7.45  0.010560\n",
       "1496  7.46  5.169969  7.46  0.005591\n",
       "1497  7.47  5.179884  7.47  0.005591\n",
       "1498  7.48  5.179884  7.48  0.000621\n",
       "1499  7.49  5.174926  7.49  0.010560\n",
       "\n",
       "[1500 rows x 4 columns]"
      ]
     },
     "execution_count": 1,
     "metadata": {},
     "output_type": "execute_result"
    }
   ],
   "source": [
    "import pandas as pd\n",
    "from matplotlib import pyplot as plt\n",
    "df = pd.read_csv('pset3-correct5V-graph')\n",
    "df"
   ]
  },
  {
   "cell_type": "code",
   "execution_count": 2,
   "id": "714d0a68",
   "metadata": {},
   "outputs": [
    {
     "data": {
      "text/html": [
       "<div>\n",
       "<style scoped>\n",
       "    .dataframe tbody tr th:only-of-type {\n",
       "        vertical-align: middle;\n",
       "    }\n",
       "\n",
       "    .dataframe tbody tr th {\n",
       "        vertical-align: top;\n",
       "    }\n",
       "\n",
       "    .dataframe thead th {\n",
       "        text-align: right;\n",
       "    }\n",
       "</style>\n",
       "<table border=\"1\" class=\"dataframe\">\n",
       "  <thead>\n",
       "    <tr style=\"text-align: right;\">\n",
       "      <th></th>\n",
       "      <th>t1</th>\n",
       "      <th>ch1</th>\n",
       "    </tr>\n",
       "  </thead>\n",
       "  <tbody>\n",
       "    <tr>\n",
       "      <th>0</th>\n",
       "      <td>-7.50</td>\n",
       "      <td>0.188061</td>\n",
       "    </tr>\n",
       "    <tr>\n",
       "      <th>1</th>\n",
       "      <td>-7.49</td>\n",
       "      <td>0.178147</td>\n",
       "    </tr>\n",
       "    <tr>\n",
       "      <th>2</th>\n",
       "      <td>-7.48</td>\n",
       "      <td>0.188061</td>\n",
       "    </tr>\n",
       "    <tr>\n",
       "      <th>3</th>\n",
       "      <td>-7.47</td>\n",
       "      <td>0.183104</td>\n",
       "    </tr>\n",
       "    <tr>\n",
       "      <th>4</th>\n",
       "      <td>-7.46</td>\n",
       "      <td>0.188061</td>\n",
       "    </tr>\n",
       "    <tr>\n",
       "      <th>...</th>\n",
       "      <td>...</td>\n",
       "      <td>...</td>\n",
       "    </tr>\n",
       "    <tr>\n",
       "      <th>1495</th>\n",
       "      <td>7.45</td>\n",
       "      <td>5.174926</td>\n",
       "    </tr>\n",
       "    <tr>\n",
       "      <th>1496</th>\n",
       "      <td>7.46</td>\n",
       "      <td>5.169969</td>\n",
       "    </tr>\n",
       "    <tr>\n",
       "      <th>1497</th>\n",
       "      <td>7.47</td>\n",
       "      <td>5.179884</td>\n",
       "    </tr>\n",
       "    <tr>\n",
       "      <th>1498</th>\n",
       "      <td>7.48</td>\n",
       "      <td>5.179884</td>\n",
       "    </tr>\n",
       "    <tr>\n",
       "      <th>1499</th>\n",
       "      <td>7.49</td>\n",
       "      <td>5.174926</td>\n",
       "    </tr>\n",
       "  </tbody>\n",
       "</table>\n",
       "<p>1500 rows × 2 columns</p>\n",
       "</div>"
      ],
      "text/plain": [
       "        t1       ch1\n",
       "0    -7.50  0.188061\n",
       "1    -7.49  0.178147\n",
       "2    -7.48  0.188061\n",
       "3    -7.47  0.183104\n",
       "4    -7.46  0.188061\n",
       "...    ...       ...\n",
       "1495  7.45  5.174926\n",
       "1496  7.46  5.169969\n",
       "1497  7.47  5.179884\n",
       "1498  7.48  5.179884\n",
       "1499  7.49  5.174926\n",
       "\n",
       "[1500 rows x 2 columns]"
      ]
     },
     "execution_count": 2,
     "metadata": {},
     "output_type": "execute_result"
    }
   ],
   "source": [
    "df2 = df.drop(['t2', 'ch2'], axis=1)\n",
    "df2"
   ]
  },
  {
   "cell_type": "markdown",
   "id": "6657e7cc",
   "metadata": {},
   "source": [
    "### Observing voltage increase with a capacitor - Wrong\n",
    "\n",
    "*Circuit was not set up correctly* Error:\n",
    "\n",
    "Note: In the absence of the capacitor, there is no voltage difference because nothing is discharging/charging. "
   ]
  },
  {
   "cell_type": "code",
   "execution_count": 3,
   "id": "1e016902",
   "metadata": {},
   "outputs": [
    {
     "data": {
      "image/png": "[encoded data removed]",
      "text/plain": [
       "<Figure size 720x504 with 1 Axes>"
      ]
     },
     "metadata": {
      "needs_background": "light"
     },
     "output_type": "display_data"
    }
   ],
   "source": [
    "fig, ax = plt.subplots(figsize=(10, 7))\n",
    "save = ax.plot(df2.t1, df2.ch1)"
   ]
  },
  {
   "cell_type": "code",
   "execution_count": 4,
   "id": "132b6920",
   "metadata": {},
   "outputs": [
    {
     "data": {
      "text/html": [
       "<div>\n",
       "<style scoped>\n",
       "    .dataframe tbody tr th:only-of-type {\n",
       "        vertical-align: middle;\n",
       "    }\n",
       "\n",
       "    .dataframe tbody tr th {\n",
       "        vertical-align: top;\n",
       "    }\n",
       "\n",
       "    .dataframe thead th {\n",
       "        text-align: right;\n",
       "    }\n",
       "</style>\n",
       "<table border=\"1\" class=\"dataframe\">\n",
       "  <thead>\n",
       "    <tr style=\"text-align: right;\">\n",
       "      <th></th>\n",
       "      <th>t1</th>\n",
       "      <th>ch1</th>\n",
       "    </tr>\n",
       "  </thead>\n",
       "  <tbody>\n",
       "    <tr>\n",
       "      <th>0</th>\n",
       "      <td>-7.50</td>\n",
       "      <td>4.813056</td>\n",
       "    </tr>\n",
       "    <tr>\n",
       "      <th>1</th>\n",
       "      <td>-7.49</td>\n",
       "      <td>4.818014</td>\n",
       "    </tr>\n",
       "    <tr>\n",
       "      <th>2</th>\n",
       "      <td>-7.48</td>\n",
       "      <td>4.808099</td>\n",
       "    </tr>\n",
       "    <tr>\n",
       "      <th>3</th>\n",
       "      <td>-7.47</td>\n",
       "      <td>4.813056</td>\n",
       "    </tr>\n",
       "    <tr>\n",
       "      <th>4</th>\n",
       "      <td>-7.46</td>\n",
       "      <td>4.822971</td>\n",
       "    </tr>\n",
       "    <tr>\n",
       "      <th>...</th>\n",
       "      <td>...</td>\n",
       "      <td>...</td>\n",
       "    </tr>\n",
       "    <tr>\n",
       "      <th>1495</th>\n",
       "      <td>7.45</td>\n",
       "      <td>0.183104</td>\n",
       "    </tr>\n",
       "    <tr>\n",
       "      <th>1496</th>\n",
       "      <td>7.46</td>\n",
       "      <td>0.188061</td>\n",
       "    </tr>\n",
       "    <tr>\n",
       "      <th>1497</th>\n",
       "      <td>7.47</td>\n",
       "      <td>0.193018</td>\n",
       "    </tr>\n",
       "    <tr>\n",
       "      <th>1498</th>\n",
       "      <td>7.48</td>\n",
       "      <td>0.183104</td>\n",
       "    </tr>\n",
       "    <tr>\n",
       "      <th>1499</th>\n",
       "      <td>7.49</td>\n",
       "      <td>0.183104</td>\n",
       "    </tr>\n",
       "  </tbody>\n",
       "</table>\n",
       "<p>1500 rows × 2 columns</p>\n",
       "</div>"
      ],
      "text/plain": [
       "        t1       ch1\n",
       "0    -7.50  4.813056\n",
       "1    -7.49  4.818014\n",
       "2    -7.48  4.808099\n",
       "3    -7.47  4.813056\n",
       "4    -7.46  4.822971\n",
       "...    ...       ...\n",
       "1495  7.45  0.183104\n",
       "1496  7.46  0.188061\n",
       "1497  7.47  0.193018\n",
       "1498  7.48  0.183104\n",
       "1499  7.49  0.183104\n",
       "\n",
       "[1500 rows x 2 columns]"
      ]
     },
     "execution_count": 4,
     "metadata": {},
     "output_type": "execute_result"
    }
   ],
   "source": [
    "data = pd.read_csv('pset3-correct-graph')\n",
    "data.drop(['t2', 'ch2'], axis=1)"
   ]
  },
  {
   "cell_type": "markdown",
   "id": "a18e308c",
   "metadata": {},
   "source": [
    "#### Observing the voltage drop with a capacitor\n",
    "\n",
    "The capacitor is being discharged meaning ..."
   ]
  },
  {
   "cell_type": "code",
   "execution_count": 5,
   "id": "53577d91",
   "metadata": {
    "scrolled": true
   },
   "outputs": [
    {
     "data": {
      "image/png": "[encoded data removed]",
      "text/plain": [
       "<Figure size 720x504 with 1 Axes>"
      ]
     },
     "metadata": {
      "needs_background": "light"
     },
     "output_type": "display_data"
    }
   ],
   "source": [
    "fig, ax = plt.subplots(figsize=(10, 7))\n",
    "ax.set_xlabel('Time')\n",
    "ax.set_ylabel('Voltage')\n",
    "save_two = ax.plot(data.t1, data.ch1)"
   ]
  },
  {
   "cell_type": "markdown",
   "id": "aba31ddd",
   "metadata": {},
   "source": [
    "### step 2"
   ]
  },
  {
   "cell_type": "code",
   "execution_count": 6,
   "id": "386c3688",
   "metadata": {},
   "outputs": [
    {
     "data": {
      "text/plain": [
       "[<matplotlib.lines.Line2D at 0x7face2e3caf0>]"
      ]
     },
     "execution_count": 6,
     "metadata": {},
     "output_type": "execute_result"
    },
    {
     "data": {
      "image/png": "[encoded data removed]",
      "text/plain": [
       "<Figure size 720x504 with 1 Axes>"
      ]
     },
     "metadata": {
      "needs_background": "light"
     },
     "output_type": "display_data"
    }
   ],
   "source": [
    "infinity = pd.read_csv('V-infinity')\n",
    "fig, ax = plt.subplots(figsize=(10, 7))\n",
    "ax.plot(infinity.t1, infinity.ch1)"
   ]
  },
  {
   "cell_type": "code",
   "execution_count": 11,
   "id": "2fd53227",
   "metadata": {},
   "outputs": [
    {
     "data": {
      "text/html": [
       "<div>\n",
       "<style scoped>\n",
       "    .dataframe tbody tr th:only-of-type {\n",
       "        vertical-align: middle;\n",
       "    }\n",
       "\n",
       "    .dataframe tbody tr th {\n",
       "        vertical-align: top;\n",
       "    }\n",
       "\n",
       "    .dataframe thead th {\n",
       "        text-align: right;\n",
       "    }\n",
       "</style>\n",
       "<table border=\"1\" class=\"dataframe\">\n",
       "  <thead>\n",
       "    <tr style=\"text-align: right;\">\n",
       "      <th></th>\n",
       "      <th>t1</th>\n",
       "      <th>ch1</th>\n",
       "      <th>t2</th>\n",
       "      <th>ch2</th>\n",
       "    </tr>\n",
       "  </thead>\n",
       "  <tbody>\n",
       "    <tr>\n",
       "      <th>0</th>\n",
       "      <td>-0.3750</td>\n",
       "      <td>1.001029</td>\n",
       "      <td>-0.3750</td>\n",
       "      <td>0.999518</td>\n",
       "    </tr>\n",
       "    <tr>\n",
       "      <th>1</th>\n",
       "      <td>-0.3745</td>\n",
       "      <td>0.996072</td>\n",
       "      <td>-0.3745</td>\n",
       "      <td>0.989579</td>\n",
       "    </tr>\n",
       "    <tr>\n",
       "      <th>2</th>\n",
       "      <td>-0.3740</td>\n",
       "      <td>0.996072</td>\n",
       "      <td>-0.3740</td>\n",
       "      <td>0.994548</td>\n",
       "    </tr>\n",
       "    <tr>\n",
       "      <th>3</th>\n",
       "      <td>-0.3735</td>\n",
       "      <td>0.996072</td>\n",
       "      <td>-0.3735</td>\n",
       "      <td>0.989579</td>\n",
       "    </tr>\n",
       "    <tr>\n",
       "      <th>4</th>\n",
       "      <td>-0.3730</td>\n",
       "      <td>0.996072</td>\n",
       "      <td>-0.3730</td>\n",
       "      <td>0.994548</td>\n",
       "    </tr>\n",
       "    <tr>\n",
       "      <th>...</th>\n",
       "      <td>...</td>\n",
       "      <td>...</td>\n",
       "      <td>...</td>\n",
       "      <td>...</td>\n",
       "    </tr>\n",
       "    <tr>\n",
       "      <th>1495</th>\n",
       "      <td>0.3725</td>\n",
       "      <td>0.029433</td>\n",
       "      <td>0.3725</td>\n",
       "      <td>0.030439</td>\n",
       "    </tr>\n",
       "    <tr>\n",
       "      <th>1496</th>\n",
       "      <td>0.3730</td>\n",
       "      <td>0.044304</td>\n",
       "      <td>0.3730</td>\n",
       "      <td>0.025469</td>\n",
       "    </tr>\n",
       "    <tr>\n",
       "      <th>1497</th>\n",
       "      <td>0.3735</td>\n",
       "      <td>0.034390</td>\n",
       "      <td>0.3735</td>\n",
       "      <td>0.030439</td>\n",
       "    </tr>\n",
       "    <tr>\n",
       "      <th>1498</th>\n",
       "      <td>0.3740</td>\n",
       "      <td>0.034390</td>\n",
       "      <td>0.3740</td>\n",
       "      <td>0.035409</td>\n",
       "    </tr>\n",
       "    <tr>\n",
       "      <th>1499</th>\n",
       "      <td>0.3745</td>\n",
       "      <td>0.039347</td>\n",
       "      <td>0.3745</td>\n",
       "      <td>0.040378</td>\n",
       "    </tr>\n",
       "  </tbody>\n",
       "</table>\n",
       "<p>1500 rows × 4 columns</p>\n",
       "</div>"
      ],
      "text/plain": [
       "          t1       ch1      t2       ch2\n",
       "0    -0.3750  1.001029 -0.3750  0.999518\n",
       "1    -0.3745  0.996072 -0.3745  0.989579\n",
       "2    -0.3740  0.996072 -0.3740  0.994548\n",
       "3    -0.3735  0.996072 -0.3735  0.989579\n",
       "4    -0.3730  0.996072 -0.3730  0.994548\n",
       "...      ...       ...     ...       ...\n",
       "1495  0.3725  0.029433  0.3725  0.030439\n",
       "1496  0.3730  0.044304  0.3730  0.025469\n",
       "1497  0.3735  0.034390  0.3735  0.030439\n",
       "1498  0.3740  0.034390  0.3740  0.035409\n",
       "1499  0.3745  0.039347  0.3745  0.040378\n",
       "\n",
       "[1500 rows x 4 columns]"
      ]
     },
     "execution_count": 11,
     "metadata": {},
     "output_type": "execute_result"
    }
   ],
   "source": [
    "ac = pd.read_csv('ac-circuit')\n",
    "ac"
   ]
  },
  {
   "cell_type": "code",
   "execution_count": 12,
   "id": "a130094a",
   "metadata": {},
   "outputs": [
    {
     "data": {
      "text/html": [
       "<div>\n",
       "<style scoped>\n",
       "    .dataframe tbody tr th:only-of-type {\n",
       "        vertical-align: middle;\n",
       "    }\n",
       "\n",
       "    .dataframe tbody tr th {\n",
       "        vertical-align: top;\n",
       "    }\n",
       "\n",
       "    .dataframe thead th {\n",
       "        text-align: right;\n",
       "    }\n",
       "</style>\n",
       "<table border=\"1\" class=\"dataframe\">\n",
       "  <thead>\n",
       "    <tr style=\"text-align: right;\">\n",
       "      <th></th>\n",
       "      <th>t1</th>\n",
       "      <th>ch1</th>\n",
       "    </tr>\n",
       "  </thead>\n",
       "  <tbody>\n",
       "    <tr>\n",
       "      <th>0</th>\n",
       "      <td>-0.3750</td>\n",
       "      <td>1.001029</td>\n",
       "    </tr>\n",
       "    <tr>\n",
       "      <th>1</th>\n",
       "      <td>-0.3745</td>\n",
       "      <td>0.996072</td>\n",
       "    </tr>\n",
       "    <tr>\n",
       "      <th>2</th>\n",
       "      <td>-0.3740</td>\n",
       "      <td>0.996072</td>\n",
       "    </tr>\n",
       "    <tr>\n",
       "      <th>3</th>\n",
       "      <td>-0.3735</td>\n",
       "      <td>0.996072</td>\n",
       "    </tr>\n",
       "    <tr>\n",
       "      <th>4</th>\n",
       "      <td>-0.3730</td>\n",
       "      <td>0.996072</td>\n",
       "    </tr>\n",
       "    <tr>\n",
       "      <th>...</th>\n",
       "      <td>...</td>\n",
       "      <td>...</td>\n",
       "    </tr>\n",
       "    <tr>\n",
       "      <th>1495</th>\n",
       "      <td>0.3725</td>\n",
       "      <td>0.029433</td>\n",
       "    </tr>\n",
       "    <tr>\n",
       "      <th>1496</th>\n",
       "      <td>0.3730</td>\n",
       "      <td>0.044304</td>\n",
       "    </tr>\n",
       "    <tr>\n",
       "      <th>1497</th>\n",
       "      <td>0.3735</td>\n",
       "      <td>0.034390</td>\n",
       "    </tr>\n",
       "    <tr>\n",
       "      <th>1498</th>\n",
       "      <td>0.3740</td>\n",
       "      <td>0.034390</td>\n",
       "    </tr>\n",
       "    <tr>\n",
       "      <th>1499</th>\n",
       "      <td>0.3745</td>\n",
       "      <td>0.039347</td>\n",
       "    </tr>\n",
       "  </tbody>\n",
       "</table>\n",
       "<p>1500 rows × 2 columns</p>\n",
       "</div>"
      ],
      "text/plain": [
       "          t1       ch1\n",
       "0    -0.3750  1.001029\n",
       "1    -0.3745  0.996072\n",
       "2    -0.3740  0.996072\n",
       "3    -0.3735  0.996072\n",
       "4    -0.3730  0.996072\n",
       "...      ...       ...\n",
       "1495  0.3725  0.029433\n",
       "1496  0.3730  0.044304\n",
       "1497  0.3735  0.034390\n",
       "1498  0.3740  0.034390\n",
       "1499  0.3745  0.039347\n",
       "\n",
       "[1500 rows x 2 columns]"
      ]
     },
     "execution_count": 12,
     "metadata": {},
     "output_type": "execute_result"
    }
   ],
   "source": [
    "ac.drop(['t2', 'ch2'], axis=1)"
   ]
  },
  {
   "cell_type": "code",
   "execution_count": 14,
   "id": "42c93cd2",
   "metadata": {},
   "outputs": [
    {
     "data": {
      "text/plain": [
       "[<matplotlib.lines.Line2D at 0x7facf090b850>]"
      ]
     },
     "execution_count": 14,
     "metadata": {},
     "output_type": "execute_result"
    },
    {
     "data": {
      "image/png": "[encoded data removed]",
      "text/plain": [
       "<Figure size 720x504 with 1 Axes>"
      ]
     },
     "metadata": {
      "needs_background": "light"
     },
     "output_type": "display_data"
    }
   ],
   "source": [
    "fig, ax = plt.subplots(figsize=(10, 7))\n",
    "ax.plot(ac.t1, ac.ch1)"
   ]
  },
  {
   "cell_type": "code",
   "execution_count": 17,
   "id": "580bcb16",
   "metadata": {},
   "outputs": [
    {
     "data": {
      "text/html": [
       "<div>\n",
       "<style scoped>\n",
       "    .dataframe tbody tr th:only-of-type {\n",
       "        vertical-align: middle;\n",
       "    }\n",
       "\n",
       "    .dataframe tbody tr th {\n",
       "        vertical-align: top;\n",
       "    }\n",
       "\n",
       "    .dataframe thead th {\n",
       "        text-align: right;\n",
       "    }\n",
       "</style>\n",
       "<table border=\"1\" class=\"dataframe\">\n",
       "  <thead>\n",
       "    <tr style=\"text-align: right;\">\n",
       "      <th></th>\n",
       "      <th>t1</th>\n",
       "      <th>ch1</th>\n",
       "    </tr>\n",
       "  </thead>\n",
       "  <tbody>\n",
       "    <tr>\n",
       "      <th>0</th>\n",
       "      <td>-1.500</td>\n",
       "      <td>2.636880</td>\n",
       "    </tr>\n",
       "    <tr>\n",
       "      <th>1</th>\n",
       "      <td>-1.498</td>\n",
       "      <td>2.631922</td>\n",
       "    </tr>\n",
       "    <tr>\n",
       "      <th>2</th>\n",
       "      <td>-1.496</td>\n",
       "      <td>2.631922</td>\n",
       "    </tr>\n",
       "    <tr>\n",
       "      <th>3</th>\n",
       "      <td>-1.494</td>\n",
       "      <td>2.636880</td>\n",
       "    </tr>\n",
       "    <tr>\n",
       "      <th>4</th>\n",
       "      <td>-1.492</td>\n",
       "      <td>2.626965</td>\n",
       "    </tr>\n",
       "    <tr>\n",
       "      <th>...</th>\n",
       "      <td>...</td>\n",
       "      <td>...</td>\n",
       "    </tr>\n",
       "    <tr>\n",
       "      <th>1495</th>\n",
       "      <td>1.490</td>\n",
       "      <td>2.631922</td>\n",
       "    </tr>\n",
       "    <tr>\n",
       "      <th>1496</th>\n",
       "      <td>1.492</td>\n",
       "      <td>2.631922</td>\n",
       "    </tr>\n",
       "    <tr>\n",
       "      <th>1497</th>\n",
       "      <td>1.494</td>\n",
       "      <td>2.636880</td>\n",
       "    </tr>\n",
       "    <tr>\n",
       "      <th>1498</th>\n",
       "      <td>1.496</td>\n",
       "      <td>2.626965</td>\n",
       "    </tr>\n",
       "    <tr>\n",
       "      <th>1499</th>\n",
       "      <td>1.498</td>\n",
       "      <td>2.626965</td>\n",
       "    </tr>\n",
       "  </tbody>\n",
       "</table>\n",
       "<p>1500 rows × 2 columns</p>\n",
       "</div>"
      ],
      "text/plain": [
       "         t1       ch1\n",
       "0    -1.500  2.636880\n",
       "1    -1.498  2.631922\n",
       "2    -1.496  2.631922\n",
       "3    -1.494  2.636880\n",
       "4    -1.492  2.626965\n",
       "...     ...       ...\n",
       "1495  1.490  2.631922\n",
       "1496  1.492  2.631922\n",
       "1497  1.494  2.636880\n",
       "1498  1.496  2.626965\n",
       "1499  1.498  2.626965\n",
       "\n",
       "[1500 rows x 2 columns]"
      ]
     },
     "execution_count": 17,
     "metadata": {},
     "output_type": "execute_result"
    }
   ],
   "source": [
    "trying = pd.read_csv('2.5-v')\n",
    "trying.drop(['t2', 'ch2'], axis=1)"
   ]
  },
  {
   "cell_type": "code",
   "execution_count": 18,
   "id": "ea0b6ec0",
   "metadata": {},
   "outputs": [
    {
     "data": {
      "text/plain": [
       "[<matplotlib.lines.Line2D at 0x7face32c8520>]"
      ]
     },
     "execution_count": 18,
     "metadata": {},
     "output_type": "execute_result"
    },
    {
     "data": {
      "image/png": "[encoded data removed]",
      "text/plain": [
       "<Figure size 720x504 with 1 Axes>"
      ]
     },
     "metadata": {
      "needs_background": "light"
     },
     "output_type": "display_data"
    }
   ],
   "source": [
    "# Vin frequency: 1kHz with 2.5V\n",
    "\n",
    "fig, ax = plt.subplots(figsize=(10, 7))\n",
    "ax.plot(trying.t1, trying.ch1)"
   ]
  },
  {
   "cell_type": "code",
   "execution_count": null,
   "id": "2fb438dc",
   "metadata": {},
   "outputs": [],
   "source": []
  }
 ],
 "metadata": {
  "kernelspec": {
   "display_name": "Python 3",
   "language": "python",
   "name": "python3"
  },
  "language_info": {
   "codemirror_mode": {
    "name": "ipython",
    "version": 3
   },
   "file_extension": ".py",
   "mimetype": "text/x-python",
   "name": "python",
   "nbconvert_exporter": "python",
   "pygments_lexer": "ipython3",
   "version": "3.8.8"
  }
 },
 "nbformat": 4,
 "nbformat_minor": 5
}
