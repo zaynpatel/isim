{
 "cells": [
  {
   "cell_type": "code",
   "execution_count": 1,
   "id": "c655a871",
   "metadata": {},
   "outputs": [
    {
     "data": {
      "text/html": [
       "<div>\n",
       "<style scoped>\n",
       "    .dataframe tbody tr th:only-of-type {\n",
       "        vertical-align: middle;\n",
       "    }\n",
       "\n",
       "    .dataframe tbody tr th {\n",
       "        vertical-align: top;\n",
       "    }\n",
       "\n",
       "    .dataframe thead th {\n",
       "        text-align: right;\n",
       "    }\n",
       "</style>\n",
       "<table border=\"1\" class=\"dataframe\">\n",
       "  <thead>\n",
       "    <tr style=\"text-align: right;\">\n",
       "      <th></th>\n",
       "      <th>t1</th>\n",
       "      <th>ch1</th>\n",
       "    </tr>\n",
       "  </thead>\n",
       "  <tbody>\n",
       "    <tr>\n",
       "      <th>0</th>\n",
       "      <td>-750.0</td>\n",
       "      <td>0.743259</td>\n",
       "    </tr>\n",
       "    <tr>\n",
       "      <th>1</th>\n",
       "      <td>-749.0</td>\n",
       "      <td>0.782916</td>\n",
       "    </tr>\n",
       "    <tr>\n",
       "      <th>2</th>\n",
       "      <td>-748.0</td>\n",
       "      <td>0.797787</td>\n",
       "    </tr>\n",
       "    <tr>\n",
       "      <th>3</th>\n",
       "      <td>-747.0</td>\n",
       "      <td>0.817615</td>\n",
       "    </tr>\n",
       "    <tr>\n",
       "      <th>4</th>\n",
       "      <td>-746.0</td>\n",
       "      <td>0.842401</td>\n",
       "    </tr>\n",
       "    <tr>\n",
       "      <th>...</th>\n",
       "      <td>...</td>\n",
       "      <td>...</td>\n",
       "    </tr>\n",
       "    <tr>\n",
       "      <th>1495</th>\n",
       "      <td>745.0</td>\n",
       "      <td>1.124957</td>\n",
       "    </tr>\n",
       "    <tr>\n",
       "      <th>1496</th>\n",
       "      <td>746.0</td>\n",
       "      <td>1.124957</td>\n",
       "    </tr>\n",
       "    <tr>\n",
       "      <th>1497</th>\n",
       "      <td>747.0</td>\n",
       "      <td>1.129914</td>\n",
       "    </tr>\n",
       "    <tr>\n",
       "      <th>1498</th>\n",
       "      <td>748.0</td>\n",
       "      <td>1.124957</td>\n",
       "    </tr>\n",
       "    <tr>\n",
       "      <th>1499</th>\n",
       "      <td>749.0</td>\n",
       "      <td>1.129914</td>\n",
       "    </tr>\n",
       "  </tbody>\n",
       "</table>\n",
       "<p>1500 rows × 2 columns</p>\n",
       "</div>"
      ],
      "text/plain": [
       "         t1       ch1\n",
       "0    -750.0  0.743259\n",
       "1    -749.0  0.782916\n",
       "2    -748.0  0.797787\n",
       "3    -747.0  0.817615\n",
       "4    -746.0  0.842401\n",
       "...     ...       ...\n",
       "1495  745.0  1.124957\n",
       "1496  746.0  1.124957\n",
       "1497  747.0  1.129914\n",
       "1498  748.0  1.124957\n",
       "1499  749.0  1.129914\n",
       "\n",
       "[1500 rows x 2 columns]"
      ]
     },
     "execution_count": 1,
     "metadata": {},
     "output_type": "execute_result"
    }
   ],
   "source": [
    "import pandas as pd\n",
    "from matplotlib import pyplot as plt\n",
    "df = pd.read_csv('lab2-graph')\n",
    "df\n",
    "df2 = df.drop(['t2', 'ch2'], axis=1)\n",
    "df2"
   ]
  },
  {
   "cell_type": "markdown",
   "id": "10b2d26e",
   "metadata": {},
   "source": [
    "### Graph of Time versus Voltage Out (Not graded)"
   ]
  },
  {
   "cell_type": "code",
   "execution_count": 2,
   "id": "a5322f93",
   "metadata": {},
   "outputs": [
    {
     "data": {
      "text/plain": [
       "0          0.0\n",
       "1          1.0\n",
       "2          2.0\n",
       "3          3.0\n",
       "4          4.0\n",
       "         ...  \n",
       "1495    1495.0\n",
       "1496    1496.0\n",
       "1497    1497.0\n",
       "1498    1498.0\n",
       "1499    1499.0\n",
       "Name: t1, Length: 1500, dtype: float64"
      ]
     },
     "execution_count": 2,
     "metadata": {},
     "output_type": "execute_result"
    },
    {
     "data": {
      "image/png": "[encoded data removed]",
      "text/plain": [
       "<Figure size 720x504 with 1 Axes>"
      ]
     },
     "metadata": {
      "needs_background": "light"
     },
     "output_type": "display_data"
    }
   ],
   "source": [
    "fig, ax = plt.subplots(figsize=(10, 7))\n",
    "ax.set_xlabel('Time')\n",
    "ax.set_ylabel('Voltage Out')\n",
    "ax.plot(df2.t1, df2.ch1)\n",
    "df3 = df2.t1 + 750\n",
    "df3"
   ]
  },
  {
   "cell_type": "code",
   "execution_count": 3,
   "id": "bfc0b4a1",
   "metadata": {},
   "outputs": [
    {
     "name": "stdout",
     "output_type": "stream",
     "text": [
      "92.15500621861015\n"
     ]
    }
   ],
   "source": [
    "# calculate Rt_one\n",
    "import math\n",
    "\n",
    "result = 1000 * math.exp(-3528 * (1/298 - 1/373.15))\n",
    "\n",
    "print(result) # 92.15500621861015. Hand calc gives me 92 Ohms (rounded)"
   ]
  },
  {
   "cell_type": "code",
   "execution_count": 4,
   "id": "4afa9f18",
   "metadata": {},
   "outputs": [
    {
     "name": "stdout",
     "output_type": "stream",
     "text": [
      "2.6020659562268285\n"
     ]
    }
   ],
   "source": [
    "vout = 5/(result + 100) * 100\n",
    "print(vout)"
   ]
  },
  {
   "cell_type": "code",
   "execution_count": 5,
   "id": "ba292cb5",
   "metadata": {},
   "outputs": [
    {
     "data": {
      "text/plain": [
       "pandas.core.series.Series"
      ]
     },
     "execution_count": 5,
     "metadata": {},
     "output_type": "execute_result"
    }
   ],
   "source": [
    "type(df2.ch1)"
   ]
  },
  {
   "cell_type": "code",
   "execution_count": 6,
   "id": "b6c7f68e",
   "metadata": {},
   "outputs": [
    {
     "data": {
      "text/html": [
       "<div>\n",
       "<style scoped>\n",
       "    .dataframe tbody tr th:only-of-type {\n",
       "        vertical-align: middle;\n",
       "    }\n",
       "\n",
       "    .dataframe tbody tr th {\n",
       "        vertical-align: top;\n",
       "    }\n",
       "\n",
       "    .dataframe thead th {\n",
       "        text-align: right;\n",
       "    }\n",
       "</style>\n",
       "<table border=\"1\" class=\"dataframe\">\n",
       "  <thead>\n",
       "    <tr style=\"text-align: right;\">\n",
       "      <th></th>\n",
       "      <th>t1</th>\n",
       "      <th>ch1</th>\n",
       "    </tr>\n",
       "  </thead>\n",
       "  <tbody>\n",
       "    <tr>\n",
       "      <th>0</th>\n",
       "      <td>-750.0</td>\n",
       "      <td>0.743259</td>\n",
       "    </tr>\n",
       "    <tr>\n",
       "      <th>1</th>\n",
       "      <td>-749.0</td>\n",
       "      <td>0.782916</td>\n",
       "    </tr>\n",
       "    <tr>\n",
       "      <th>2</th>\n",
       "      <td>-748.0</td>\n",
       "      <td>0.797787</td>\n",
       "    </tr>\n",
       "    <tr>\n",
       "      <th>3</th>\n",
       "      <td>-747.0</td>\n",
       "      <td>0.817615</td>\n",
       "    </tr>\n",
       "    <tr>\n",
       "      <th>4</th>\n",
       "      <td>-746.0</td>\n",
       "      <td>0.842401</td>\n",
       "    </tr>\n",
       "    <tr>\n",
       "      <th>...</th>\n",
       "      <td>...</td>\n",
       "      <td>...</td>\n",
       "    </tr>\n",
       "    <tr>\n",
       "      <th>1495</th>\n",
       "      <td>745.0</td>\n",
       "      <td>1.124957</td>\n",
       "    </tr>\n",
       "    <tr>\n",
       "      <th>1496</th>\n",
       "      <td>746.0</td>\n",
       "      <td>1.124957</td>\n",
       "    </tr>\n",
       "    <tr>\n",
       "      <th>1497</th>\n",
       "      <td>747.0</td>\n",
       "      <td>1.129914</td>\n",
       "    </tr>\n",
       "    <tr>\n",
       "      <th>1498</th>\n",
       "      <td>748.0</td>\n",
       "      <td>1.124957</td>\n",
       "    </tr>\n",
       "    <tr>\n",
       "      <th>1499</th>\n",
       "      <td>749.0</td>\n",
       "      <td>1.129914</td>\n",
       "    </tr>\n",
       "  </tbody>\n",
       "</table>\n",
       "<p>1500 rows × 2 columns</p>\n",
       "</div>"
      ],
      "text/plain": [
       "         t1       ch1\n",
       "0    -750.0  0.743259\n",
       "1    -749.0  0.782916\n",
       "2    -748.0  0.797787\n",
       "3    -747.0  0.817615\n",
       "4    -746.0  0.842401\n",
       "...     ...       ...\n",
       "1495  745.0  1.124957\n",
       "1496  746.0  1.124957\n",
       "1497  747.0  1.129914\n",
       "1498  748.0  1.124957\n",
       "1499  749.0  1.129914\n",
       "\n",
       "[1500 rows x 2 columns]"
      ]
     },
     "execution_count": 6,
     "metadata": {},
     "output_type": "execute_result"
    }
   ],
   "source": [
    "df2.ch1 = pd.to_numeric(df2.ch1)\n",
    "df2"
   ]
  },
  {
   "cell_type": "code",
   "execution_count": 7,
   "id": "8e739fc6",
   "metadata": {},
   "outputs": [
    {
     "data": {
      "text/plain": [
       "0      -750.0\n",
       "1      -749.0\n",
       "2      -748.0\n",
       "3      -747.0\n",
       "4      -746.0\n",
       "        ...  \n",
       "1495    745.0\n",
       "1496    746.0\n",
       "1497    747.0\n",
       "1498    748.0\n",
       "1499    749.0\n",
       "Name: t1, Length: 1500, dtype: float64"
      ]
     },
     "execution_count": 7,
     "metadata": {},
     "output_type": "execute_result"
    }
   ],
   "source": [
    "series = pd.to_numeric(df2.t1, errors='coerce')\n",
    "series"
   ]
  },
  {
   "cell_type": "code",
   "execution_count": 8,
   "id": "bd653e69",
   "metadata": {},
   "outputs": [
    {
     "data": {
      "text/plain": [
       "numpy.float64"
      ]
     },
     "execution_count": 8,
     "metadata": {},
     "output_type": "execute_result"
    }
   ],
   "source": [
    "type(df2.ch1[0])"
   ]
  },
  {
   "cell_type": "code",
   "execution_count": 9,
   "id": "f4575dd9",
   "metadata": {},
   "outputs": [
    {
     "data": {
      "text/plain": [
       "0       283.970330\n",
       "1       282.426308\n",
       "2       281.863747\n",
       "3       281.126727\n",
       "4       280.225399\n",
       "           ...    \n",
       "1495    271.173207\n",
       "1496    271.173207\n",
       "1497    271.030313\n",
       "1498    271.173207\n",
       "1499    271.030313\n",
       "Name: ch1, Length: 1500, dtype: float64"
      ]
     },
     "execution_count": 9,
     "metadata": {},
     "output_type": "execute_result"
    }
   ],
   "source": [
    "import numpy as np\n",
    "\n",
    "limited_series = np.clip(series[0:1499], a_min=1e-10, a_max=None)\n",
    "\n",
    "Rt_one = ((5 * 100)/df2.ch1) - 100\n",
    "\n",
    "temp = 1/-1*(np.log(Rt_one/1000)/-3528) - (1/298)\n",
    "temp\n",
    "\n",
    "\n",
    "new_temp = ((298*np.log(Rt_one/1000)+3528)/3528 * 298)\n",
    "new_temp"
   ]
  },
  {
   "cell_type": "code",
   "execution_count": 10,
   "id": "ae34f9f9",
   "metadata": {},
   "outputs": [
    {
     "data": {
      "text/plain": [
       "0         -5.0\n",
       "1         -4.0\n",
       "2         -3.0\n",
       "3         -2.0\n",
       "4         -1.0\n",
       "         ...  \n",
       "1495    1490.0\n",
       "1496    1491.0\n",
       "1497    1492.0\n",
       "1498    1493.0\n",
       "1499    1494.0\n",
       "Name: t1, Length: 1500, dtype: float64"
      ]
     },
     "execution_count": 10,
     "metadata": {},
     "output_type": "execute_result"
    }
   ],
   "source": [
    "df2\n",
    "df2.t1+745"
   ]
  },
  {
   "cell_type": "markdown",
   "id": "0b0e11e2",
   "metadata": {},
   "source": [
    "### Graph of cooling water (Temperature versus time)\n",
    "\n",
    "**Caption**: A graph of time versus temperature, where the data shows a temperature drop as time continues. \n",
    "\n",
    "**Analysis:** My graph looks sharp because my beginning temperature was not boiling water. My temperature was around 50/60 degrees (40 off 100 C for boiling water) therefore my drop is much faster as time continues. This is because the water temperature is decreasing and around second 390, I poured cold water into my cup, causing the sharp drop. \n",
    "\n",
    "The beginning of the graph includes me touching the thermistor and releasing it a few seconds after the measurement started. Once the thermistor was in the water, it quickly climbed to 290 K. My body temperature caused the thermistor to begin at a value, drop, and rise again when it was put into the water."
   ]
  },
  {
   "cell_type": "code",
   "execution_count": 11,
   "id": "c429e87d",
   "metadata": {},
   "outputs": [
    {
     "data": {
      "image/png": "[encoded data removed]",
      "text/plain": [
       "<Figure size 432x288 with 1 Axes>"
      ]
     },
     "metadata": {
      "needs_background": "light"
     },
     "output_type": "display_data"
    }
   ],
   "source": [
    "import matplotlib.pyplot as plt\n",
    "import numpy as np\n",
    "\n",
    "#Rt_one = np.arange(1000, 5000, 100)\n",
    "df3 = df2.t1+750\n",
    "# df3 is the time scaled out of negatives, new_temp is the transfer function from resistance to temperature\n",
    "plt.plot(df3, new_temp)\n",
    "plt.xlabel('Time')\n",
    "plt.ylabel('Temperature (in Kelvin)')\n",
    "plt.title('Plot of Time vs Temperature')\n",
    "plt.show()\n",
    "\n",
    "# lower temp, drop faster"
   ]
  },
  {
   "cell_type": "markdown",
   "id": "9f801eba",
   "metadata": {},
   "source": [
    "<img src='~Downloads/lab2.jpg'/>"
   ]
  }
 ],
 "metadata": {
  "kernelspec": {
   "display_name": "Python 3",
   "language": "python",
   "name": "python3"
  },
  "language_info": {
   "codemirror_mode": {
    "name": "ipython",
    "version": 3
   },
   "file_extension": ".py",
   "mimetype": "text/x-python",
   "name": "python",
   "nbconvert_exporter": "python",
   "pygments_lexer": "ipython3",
   "version": "3.8.8"
  }
 },
 "nbformat": 4,
 "nbformat_minor": 5
}
