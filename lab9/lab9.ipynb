{
 "cells": [
  {
   "cell_type": "code",
   "execution_count": 1,
   "id": "38d349b2",
   "metadata": {},
   "outputs": [],
   "source": [
    "import pandas as pd\n",
    "from matplotlib import pyplot as plt"
   ]
  },
  {
   "cell_type": "code",
   "execution_count": 2,
   "id": "a27357d2",
   "metadata": {},
   "outputs": [
    {
     "data": {
      "text/html": [
       "<div>\n",
       "<style scoped>\n",
       "    .dataframe tbody tr th:only-of-type {\n",
       "        vertical-align: middle;\n",
       "    }\n",
       "\n",
       "    .dataframe tbody tr th {\n",
       "        vertical-align: top;\n",
       "    }\n",
       "\n",
       "    .dataframe thead th {\n",
       "        text-align: right;\n",
       "    }\n",
       "</style>\n",
       "<table border=\"1\" class=\"dataframe\">\n",
       "  <thead>\n",
       "    <tr style=\"text-align: right;\">\n",
       "      <th></th>\n",
       "      <th>t1</th>\n",
       "      <th>ch1</th>\n",
       "      <th>t2</th>\n",
       "      <th>ch2</th>\n",
       "    </tr>\n",
       "  </thead>\n",
       "  <tbody>\n",
       "    <tr>\n",
       "      <th>0</th>\n",
       "      <td>-0.014992</td>\n",
       "      <td>-0.025095</td>\n",
       "      <td>-0.014992</td>\n",
       "      <td>-2.568680</td>\n",
       "    </tr>\n",
       "    <tr>\n",
       "      <th>1</th>\n",
       "      <td>-0.014972</td>\n",
       "      <td>-0.015181</td>\n",
       "      <td>-0.014972</td>\n",
       "      <td>-2.573650</td>\n",
       "    </tr>\n",
       "    <tr>\n",
       "      <th>2</th>\n",
       "      <td>-0.014952</td>\n",
       "      <td>0.009604</td>\n",
       "      <td>-0.014952</td>\n",
       "      <td>-2.578619</td>\n",
       "    </tr>\n",
       "    <tr>\n",
       "      <th>3</th>\n",
       "      <td>-0.014932</td>\n",
       "      <td>0.034390</td>\n",
       "      <td>-0.014932</td>\n",
       "      <td>-2.573650</td>\n",
       "    </tr>\n",
       "    <tr>\n",
       "      <th>4</th>\n",
       "      <td>-0.014912</td>\n",
       "      <td>0.009604</td>\n",
       "      <td>-0.014912</td>\n",
       "      <td>-2.578619</td>\n",
       "    </tr>\n",
       "    <tr>\n",
       "      <th>...</th>\n",
       "      <td>...</td>\n",
       "      <td>...</td>\n",
       "      <td>...</td>\n",
       "      <td>...</td>\n",
       "    </tr>\n",
       "    <tr>\n",
       "      <th>1495</th>\n",
       "      <td>0.014908</td>\n",
       "      <td>-0.005267</td>\n",
       "      <td>0.014908</td>\n",
       "      <td>-2.578619</td>\n",
       "    </tr>\n",
       "    <tr>\n",
       "      <th>1496</th>\n",
       "      <td>0.014928</td>\n",
       "      <td>-0.035010</td>\n",
       "      <td>0.014928</td>\n",
       "      <td>-2.573650</td>\n",
       "    </tr>\n",
       "    <tr>\n",
       "      <th>1497</th>\n",
       "      <td>0.014948</td>\n",
       "      <td>-0.020138</td>\n",
       "      <td>0.014948</td>\n",
       "      <td>-2.583589</td>\n",
       "    </tr>\n",
       "    <tr>\n",
       "      <th>1498</th>\n",
       "      <td>0.014968</td>\n",
       "      <td>0.039347</td>\n",
       "      <td>0.014968</td>\n",
       "      <td>-2.578619</td>\n",
       "    </tr>\n",
       "    <tr>\n",
       "      <th>1499</th>\n",
       "      <td>0.014988</td>\n",
       "      <td>0.024476</td>\n",
       "      <td>0.014988</td>\n",
       "      <td>-2.583589</td>\n",
       "    </tr>\n",
       "  </tbody>\n",
       "</table>\n",
       "<p>1500 rows × 4 columns</p>\n",
       "</div>"
      ],
      "text/plain": [
       "            t1       ch1        t2       ch2\n",
       "0    -0.014992 -0.025095 -0.014992 -2.568680\n",
       "1    -0.014972 -0.015181 -0.014972 -2.573650\n",
       "2    -0.014952  0.009604 -0.014952 -2.578619\n",
       "3    -0.014932  0.034390 -0.014932 -2.573650\n",
       "4    -0.014912  0.009604 -0.014912 -2.578619\n",
       "...        ...       ...       ...       ...\n",
       "1495  0.014908 -0.005267  0.014908 -2.578619\n",
       "1496  0.014928 -0.035010  0.014928 -2.573650\n",
       "1497  0.014948 -0.020138  0.014948 -2.583589\n",
       "1498  0.014968  0.039347  0.014968 -2.578619\n",
       "1499  0.014988  0.024476  0.014988 -2.583589\n",
       "\n",
       "[1500 rows x 4 columns]"
      ]
     },
     "execution_count": 2,
     "metadata": {},
     "output_type": "execute_result"
    }
   ],
   "source": [
    "df = pd.read_csv('lab9-csv')\n",
    "df"
   ]
  },
  {
   "cell_type": "code",
   "execution_count": 16,
   "id": "111a077f",
   "metadata": {},
   "outputs": [
    {
     "data": {
      "text/html": [
       "<div>\n",
       "<style scoped>\n",
       "    .dataframe tbody tr th:only-of-type {\n",
       "        vertical-align: middle;\n",
       "    }\n",
       "\n",
       "    .dataframe tbody tr th {\n",
       "        vertical-align: top;\n",
       "    }\n",
       "\n",
       "    .dataframe thead th {\n",
       "        text-align: right;\n",
       "    }\n",
       "</style>\n",
       "<table border=\"1\" class=\"dataframe\">\n",
       "  <thead>\n",
       "    <tr style=\"text-align: right;\">\n",
       "      <th></th>\n",
       "      <th>Known distance to the wall</th>\n",
       "      <th>Measured distance from the wall</th>\n",
       "      <th>% error</th>\n",
       "    </tr>\n",
       "  </thead>\n",
       "  <tbody>\n",
       "    <tr>\n",
       "      <th>0</th>\n",
       "      <td>1</td>\n",
       "      <td>1.15</td>\n",
       "      <td>15</td>\n",
       "    </tr>\n",
       "    <tr>\n",
       "      <th>1</th>\n",
       "      <td>2</td>\n",
       "      <td>2.00</td>\n",
       "      <td>0</td>\n",
       "    </tr>\n",
       "    <tr>\n",
       "      <th>2</th>\n",
       "      <td>3</td>\n",
       "      <td>3.00</td>\n",
       "      <td>0</td>\n",
       "    </tr>\n",
       "    <tr>\n",
       "      <th>3</th>\n",
       "      <td>4</td>\n",
       "      <td>3.80</td>\n",
       "      <td>20</td>\n",
       "    </tr>\n",
       "  </tbody>\n",
       "</table>\n",
       "</div>"
      ],
      "text/plain": [
       "   Known distance to the wall  Measured distance from the wall  % error\n",
       "0                           1                             1.15       15\n",
       "1                           2                             2.00        0\n",
       "2                           3                             3.00        0\n",
       "3                           4                             3.80       20"
      ]
     },
     "execution_count": 16,
     "metadata": {},
     "output_type": "execute_result"
    }
   ],
   "source": [
    "df = pd.read_excel('wall_distance.xlsx')\n",
    "df"
   ]
  },
  {
   "cell_type": "code",
   "execution_count": 17,
   "id": "30df3038",
   "metadata": {},
   "outputs": [
    {
     "data": {
      "text/plain": [
       "0    197.225\n",
       "1    343.000\n",
       "2    514.500\n",
       "3    651.700\n",
       "Name: Measured distance from the wall, dtype: float64"
      ]
     },
     "execution_count": 17,
     "metadata": {},
     "output_type": "execute_result"
    }
   ],
   "source": [
    "transfer_function = ((df['Measured distance from the wall'] * 343) / 2)\n",
    "transfer_function"
   ]
  },
  {
   "cell_type": "markdown",
   "id": "1a8772d0",
   "metadata": {},
   "source": [
    "**Explanation:** I gathered data for the plot of the known distance versus the measured distance by using a ruler and notebook to take distance measurements, incrementing by 1 inch to get 4 measured points. To find the measured distance to the wall, I used the measurements from the process I explained above multiplied by the speed of sound in dry air at 20 °C (343 m/s), which I googled. And, I divided by 2 accounting for the transmit/receive process the transducer compeltes before I can see its period clearly on the O-scope. \n",
    "\n",
    "**Caption:** The graph below includes the Knwon distance of the wall in inches versus the measured distance to the wall in inches. I added a line of best fit to show how far off my scatter plot points are from the actual. \n",
    "\n",
    "**How well my range finder works:** I added a percent error category in my excel dataframe to quantify how well it works. For the known distance of 1 and 4, it performed suboptimally. For 1 it gave a higher measured distance and for 4 it gave a lower measured distance. \n",
    "\n",
    "**Accuracy of the distance measurement for the range finder and reasoning:** The ideal graph is 1:1 so it should look more like y = x instead of disjointed shape as it does now. Therefore the accuracy of the distance measurement is off the ideal. I hypothesize adding more filters could fix its accuracy or using an object that has a stronger transmit/receive property than an O-scope box could also increase the accuracy. I attempted to remove objects in front of the part I was sensing but the surface of the table or not enough scope for the signal could've also caused it to perform less accurately than the desired. "
   ]
  },
  {
   "cell_type": "code",
   "execution_count": 31,
   "id": "e9d823e0",
   "metadata": {},
   "outputs": [
    {
     "data": {
      "image/png": "[encoded data removed]",
      "text/plain": [
       "<Figure size 432x288 with 1 Axes>"
      ]
     },
     "metadata": {
      "needs_background": "light"
     },
     "output_type": "display_data"
    },
    {
     "name": "stdout",
     "output_type": "stream",
     "text": [
      "Equation of the line of best fit: y =  \n",
      "153.5 x + 42.88\n"
     ]
    }
   ],
   "source": [
    "import numpy as np\n",
    "import matplotlib.pyplot as plt\n",
    "\n",
    "plt.scatter(df['Known distance to the wall'], transfer_function)\n",
    "plt.xlabel('Known Distance to the Wall (inches)')\n",
    "plt.ylabel('Measured distance to the Wall (inches)')\n",
    "plt.title('Plot of the Known distance versus the Measured distance (in inches)')\n",
    "coeffs = np.polyfit(df['Known distance to the wall'], transfer_function, 1)\n",
    "line = np.poly1d(coeffs)\n",
    "\n",
    "# Adding the line of best fit\n",
    "plt.plot(df['Known distance to the wall'], line(df['Known distance to the wall']), color='red', label='Best Fit Line')\n",
    "\n",
    "plt.legend() # Optional: to display the label\n",
    "plt.show()\n",
    "\n",
    "print(\"Equation of the line of best fit: y = {}\".format(line))"
   ]
  }
 ],
 "metadata": {
  "kernelspec": {
   "display_name": "Python 3",
   "language": "python",
   "name": "python3"
  },
  "language_info": {
   "codemirror_mode": {
    "name": "ipython",
    "version": 3
   },
   "file_extension": ".py",
   "mimetype": "text/x-python",
   "name": "python",
   "nbconvert_exporter": "python",
   "pygments_lexer": "ipython3",
   "version": "3.8.8"
  }
 },
 "nbformat": 4,
 "nbformat_minor": 5
}
